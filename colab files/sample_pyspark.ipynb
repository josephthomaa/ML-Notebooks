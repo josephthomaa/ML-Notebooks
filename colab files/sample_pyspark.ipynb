{
  "nbformat": 4,
  "nbformat_minor": 0,
  "metadata": {
    "colab": {
      "name": "sample_pyspark.ipynb",
      "provenance": []
    },
    "kernelspec": {
      "name": "python3",
      "display_name": "Python 3"
    },
    "language_info": {
      "name": "python"
    }
  },
  "cells": [
    {
      "cell_type": "markdown",
      "source": [
        "Pyspark Basics: \n",
        "1 . Setting up in colab"
      ],
      "metadata": {
        "id": "ka4RW6KfkHX9"
      }
    },
    {
      "cell_type": "code",
      "execution_count": null,
      "metadata": {
        "id": "FEU10eAIj6na"
      },
      "outputs": [],
      "source": [
        "# Install java\n",
        "!apt-get install openjdk-8-jdk-headless -qq > /dev/null"
      ]
    },
    {
      "cell_type": "code",
      "source": [
        "#  Download pyspark\n",
        "#  Get latest version from https://spark.apache.org/downloads.html\n",
        "\n",
        "!wget  https://dlcdn.apache.org/spark/spark-3.2.1/spark-3.2.1-bin-hadoop2.7.tgz"
      ],
      "metadata": {
        "colab": {
          "base_uri": "https://localhost:8080/"
        },
        "id": "QaU8rV2bkh0V",
        "outputId": "91f705e4-cd17-4afc-c19b-c5b2487958c8"
      },
      "execution_count": null,
      "outputs": [
        {
          "output_type": "stream",
          "name": "stdout",
          "text": [
            "--2022-02-23 09:13:16--  https://dlcdn.apache.org/spark/spark-3.2.1/spark-3.2.1-bin-hadoop2.7.tgz\n",
            "Resolving dlcdn.apache.org (dlcdn.apache.org)... 151.101.2.132, 2a04:4e42::644\n",
            "Connecting to dlcdn.apache.org (dlcdn.apache.org)|151.101.2.132|:443... connected.\n",
            "HTTP request sent, awaiting response... 200 OK\n",
            "Length: 272637746 (260M) [application/x-gzip]\n",
            "Saving to: ‘spark-3.2.1-bin-hadoop2.7.tgz’\n",
            "\n",
            "spark-3.2.1-bin-had 100%[===================>] 260.01M   186MB/s    in 1.4s    \n",
            "\n",
            "2022-02-23 09:13:37 (186 MB/s) - ‘spark-3.2.1-bin-hadoop2.7.tgz’ saved [272637746/272637746]\n",
            "\n"
          ]
        }
      ]
    },
    {
      "cell_type": "code",
      "source": [
        "!tar xf spark-3.2.1-bin-hadoop2.7.tgz\n"
      ],
      "metadata": {
        "id": "pP6Qq-s3kxmc"
      },
      "execution_count": null,
      "outputs": []
    },
    {
      "cell_type": "code",
      "source": [
        "# Installing pyspark \n",
        "\n",
        "!pip install -q findspark"
      ],
      "metadata": {
        "id": "yptC4Bb0k3kz"
      },
      "execution_count": null,
      "outputs": []
    },
    {
      "cell_type": "code",
      "source": [
        "import os\n",
        "os.environ[\"JAVA_HOME\"] = \"/usr/lib/jvm/java-8-openjdk-amd64\"\n",
        "os.environ[\"SPARK_HOME\"] = \"/content/spark-3.2.1-bin-hadoop2.7\""
      ],
      "metadata": {
        "id": "r1VZP-ugk9Jz"
      },
      "execution_count": null,
      "outputs": []
    },
    {
      "cell_type": "code",
      "source": [
        "import findspark\n",
        "findspark.init()"
      ],
      "metadata": {
        "id": "Gwg9oKq9k_j8"
      },
      "execution_count": null,
      "outputs": []
    },
    {
      "cell_type": "code",
      "source": [
        "#  Upload stocks.zip to colab directory"
      ],
      "metadata": {
        "id": "4Idhwu4iq23K"
      },
      "execution_count": null,
      "outputs": []
    },
    {
      "cell_type": "code",
      "source": [
        "%%bash\n",
        "\n",
        "unzip stocks.zip"
      ],
      "metadata": {
        "id": "2eiwyyVTpR3x"
      },
      "execution_count": 1,
      "outputs": []
    },
    {
      "cell_type": "code",
      "source": [
        "# creating a new spark session with pyspark\n",
        "\n",
        "from pyspark.sql import SparkSession\n",
        "\n",
        "spark = SparkSession.builder\\\n",
        "        .master(\"local\")\\\n",
        "        .appName(\"Colab\")\\\n",
        "        .config('spark.ui.port', '4050')\\\n",
        "        .getOrCreate()"
      ],
      "metadata": {
        "id": "clMweCSYlCbC"
      },
      "execution_count": null,
      "outputs": []
    },
    {
      "cell_type": "code",
      "source": [
        "from pyspark.sql.functions import udf, lit, when, date_sub\n",
        "from pyspark.sql.types import ArrayType, IntegerType, StructType, StructField, StringType\n",
        "from pyspark.sql.types import BooleanType, DateType, DoubleType\n",
        "import json\n",
        "from pyspark import SparkContext, SparkConf, SQLContext\n",
        "from pyspark.sql import Row\n",
        "from datetime import datetime\n",
        "\n",
        "# conf = SparkConf().setAppName('Colab').setMaster('local')\n",
        "# sc = SparkContext(conf=spark)\n",
        "sqlContext = SQLContext(spark)"
      ],
      "metadata": {
        "id": "bf9LX4aXlL16",
        "outputId": "4e817b10-6ec0-402f-ddd4-f2bf778d867d",
        "colab": {
          "base_uri": "https://localhost:8080/"
        }
      },
      "execution_count": null,
      "outputs": [
        {
          "output_type": "stream",
          "name": "stderr",
          "text": [
            "/content/spark-3.2.1-bin-hadoop2.7/python/pyspark/sql/context.py:79: FutureWarning: Deprecated in 3.0.0. Use SparkSession.builder.getOrCreate() instead.\n",
            "  FutureWarning\n"
          ]
        }
      ]
    },
    {
      "cell_type": "code",
      "source": [
        "#  Reading all the csv files from stocks dir in colab\n",
        "from  pyspark.sql.functions import input_file_name\n",
        "df = spark.read.option(\"header\",True).csv('/content/stocks/*').withColumn(\"filename\", input_file_name())"
      ],
      "metadata": {
        "id": "8RUxIm-zkZlt"
      },
      "execution_count": null,
      "outputs": []
    },
    {
      "cell_type": "code",
      "source": [
        ""
      ],
      "metadata": {
        "id": "_noDZ466bOec"
      },
      "execution_count": null,
      "outputs": []
    },
    {
      "cell_type": "code",
      "source": [
        "df.count()"
      ],
      "metadata": {
        "colab": {
          "base_uri": "https://localhost:8080/"
        },
        "id": "oPGazSdQn06h",
        "outputId": "39a5e15f-4ebd-4248-e0e0-22b3176e0580"
      },
      "execution_count": null,
      "outputs": [
        {
          "output_type": "execute_result",
          "data": {
            "text/plain": [
              "745076"
            ]
          },
          "metadata": {},
          "execution_count": 22
        }
      ]
    },
    {
      "cell_type": "code",
      "source": [
        "df.printSchema()"
      ],
      "metadata": {
        "colab": {
          "base_uri": "https://localhost:8080/"
        },
        "id": "G06_ptoJrCtI",
        "outputId": "b3d9a34b-dafd-4a62-f175-1c56405e57b9"
      },
      "execution_count": null,
      "outputs": [
        {
          "output_type": "stream",
          "name": "stdout",
          "text": [
            "root\n",
            " |-- SC_CODE: string (nullable = true)\n",
            " |-- SC_NAME: string (nullable = true)\n",
            " |-- SC_GROUP: string (nullable = true)\n",
            " |-- SC_TYPE: string (nullable = true)\n",
            " |-- OPEN: string (nullable = true)\n",
            " |-- HIGH: string (nullable = true)\n",
            " |-- LOW: string (nullable = true)\n",
            " |-- CLOSE: string (nullable = true)\n",
            " |-- LAST: string (nullable = true)\n",
            " |-- PREVCLOSE: string (nullable = true)\n",
            " |-- NO_TRADES: string (nullable = true)\n",
            " |-- NO_OF_SHRS: string (nullable = true)\n",
            " |-- NET_TURNOV: string (nullable = true)\n",
            " |-- TDCLOINDI: string (nullable = true)\n",
            " |-- filename: string (nullable = false)\n",
            "\n"
          ]
        }
      ]
    },
    {
      "cell_type": "code",
      "source": [
        "# Todo\n",
        "#  Convert filename EQ081021.CSV to date format, where day= 08 , month = 10, year = 2021"
      ],
      "metadata": {
        "id": "RCr3zQdFsCN4"
      },
      "execution_count": null,
      "outputs": []
    },
    {
      "cell_type": "code",
      "source": [
        "df.createOrReplaceTempView(\"temp_df_view\")"
      ],
      "metadata": {
        "id": "MRrTSzJosmqC"
      },
      "execution_count": null,
      "outputs": []
    },
    {
      "cell_type": "code",
      "source": [
        "spark.sql(\"select * from temp_df_view limit 5\").show()"
      ],
      "metadata": {
        "colab": {
          "base_uri": "https://localhost:8080/"
        },
        "id": "20u7CUhVsrOY",
        "outputId": "73645ba1-326a-43a0-b016-abf38ea0e902"
      },
      "execution_count": null,
      "outputs": [
        {
          "output_type": "stream",
          "name": "stdout",
          "text": [
            "+-------+------------+--------+-------+-------+-------+-------+-------+-------+---------+---------+----------+------------+---------+--------------------+\n",
            "|SC_CODE|     SC_NAME|SC_GROUP|SC_TYPE|   OPEN|   HIGH|    LOW|  CLOSE|   LAST|PREVCLOSE|NO_TRADES|NO_OF_SHRS|  NET_TURNOV|TDCLOINDI|            filename|\n",
            "+-------+------------+--------+-------+-------+-------+-------+-------+-------+---------+---------+----------+------------+---------+--------------------+\n",
            "| 500002|ABB LTD.    |      A |      Q|1860.25|1892.00|1846.00|1873.20|1864.00|  1854.95|      768|      4120|  7666507.00|     null|file:/content/sto...|\n",
            "| 500003|AEGIS LOGIS |      A |      Q| 230.25| 233.35| 228.00| 229.35| 229.35|   228.95|     2475|     54056| 12441733.00|     null|file:/content/sto...|\n",
            "| 500008|AMAR RAJA BA|      A |      Q| 774.50| 774.85| 762.00| 766.15| 766.15|   765.50|     2642|     63238| 48593068.00|     null|file:/content/sto...|\n",
            "| 500009|A.SARABHAI  |      X |      Q|  30.75|  31.00|  30.55|  30.65|  30.65|    30.65|      728|    145196|  4462266.00|     null|file:/content/sto...|\n",
            "| 500010|HDFC        |      A |      Q|2740.00|2769.00|2721.05|2725.00|2725.00|  2712.25|     6175|     83389|228666721.00|     null|file:/content/sto...|\n",
            "+-------+------------+--------+-------+-------+-------+-------+-------+-------+---------+---------+----------+------------+---------+--------------------+\n",
            "\n"
          ]
        }
      ]
    },
    {
      "cell_type": "code",
      "source": [
        "df.describe().show()"
      ],
      "metadata": {
        "colab": {
          "base_uri": "https://localhost:8080/"
        },
        "id": "COKATyxrDcvZ",
        "outputId": "99f0dcee-9e19-42ca-c0f6-0c48aec93286"
      },
      "execution_count": null,
      "outputs": [
        {
          "output_type": "stream",
          "name": "stdout",
          "text": [
            "+-------+------------------+------------+--------+-------+-----------------+------------------+------------------+------------------+------------------+------------------+-----------------+------------------+--------------------+---------+--------------------+\n",
            "|summary|           SC_CODE|     SC_NAME|SC_GROUP|SC_TYPE|             OPEN|              HIGH|               LOW|             CLOSE|              LAST|         PREVCLOSE|        NO_TRADES|        NO_OF_SHRS|          NET_TURNOV|TDCLOINDI|            filename|\n",
            "+-------+------------------+------------+--------+-------+-----------------+------------------+------------------+------------------+------------------+------------------+-----------------+------------------+--------------------+---------+--------------------+\n",
            "|  count|            744838|      744838|  744838| 744838|           744838|            744838|            744838|            744838|            744838|            744838|           744838|            744838|              744838|      509|              744838|\n",
            "|   mean| 553820.2296016046|        null|    null|   null|2784.109222287234|2793.9622871415463|2774.9079848370525|2784.4491197280367|2784.7490433892867|2655.4837694102403|587.3237348255594|110447.38795415916|1.2133419696374245E7|     null|                null|\n",
            "| stddev|104909.31983456403|        null|    null|   null|69470.81756091428| 69580.59185491459| 69437.00731325052| 69513.20664663243|  69548.8416910039| 67562.05411113866|3689.453379046298|1868820.9768377312|2.0790086050402063E8|     null|                null|\n",
            "|    min|            500002| DWITIYA    |      A |      B|             0.01|              0.01|              0.01|              0.01|              0.00|              0.00|                1|                 1|                0.00|       CS|file:/content/sto...|\n",
            "|    max|            973518|ZYLOG SYSTEM|      ZP|      Q|        999999.00|         999999.00|         999999.00|         999999.75|         999999.75|         999999.75|             9998|             99999|           999999.00|       XR|file:/content/sto...|\n",
            "+-------+------------------+------------+--------+-------+-----------------+------------------+------------------+------------------+------------------+------------------+-----------------+------------------+--------------------+---------+--------------------+\n",
            "\n"
          ]
        }
      ]
    },
    {
      "cell_type": "code",
      "source": [
        "# Todo \n",
        "# Create a table in local and connect it with pyspark\n",
        "# Load data from tempview to table"
      ],
      "metadata": {
        "id": "rff0GgOesyrq"
      },
      "execution_count": null,
      "outputs": []
    }
  ]
}