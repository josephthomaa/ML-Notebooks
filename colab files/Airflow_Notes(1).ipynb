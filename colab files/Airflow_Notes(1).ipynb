{
  "nbformat": 4,
  "nbformat_minor": 0,
  "metadata": {
    "colab": {
      "name": "Airflow Notes.ipynb",
      "provenance": []
    },
    "kernelspec": {
      "name": "python3",
      "display_name": "Python 3"
    },
    "language_info": {
      "name": "python"
    }
  },
  "cells": [
    {
      "cell_type": "markdown",
      "metadata": {
        "id": "OQfQ3zb9UB15"
      },
      "source": [
        "\n",
        "\n",
        "# Installation\n",
        "\n",
        "  From pypi -\n",
        "    https://airflow.apache.org/docs/apache-airflow/stable/installation/installing-from-pypi.html\n",
        "\n",
        "    pip install \"apache-airflow[celery]==2.2.2\" --constraint \"https://raw.githubusercontent.com/apache/airflow/constraints-2.2.2/constraints-3.6.txt\"\n",
        "\n"
      ]
    },
    {
      "cell_type": "markdown",
      "metadata": {
        "id": "z5qqeIRJVIAn"
      },
      "source": [
        "\n",
        "\n",
        "# Intial setup\n",
        "\n",
        "> airflow db init\n",
        "\n",
        "> airflow users create -u admin -p admin -f joseph -l thomas -r Admin -e josephthomaa@gmail.com\n",
        "\n",
        "> airflow webserver    => runs arirflow server\n",
        "\n",
        "> airflow scheduler    => starts the scheduler\n",
        "\n",
        "> airflow celery flower => for celery\n",
        "\n"
      ]
    },
    {
      "cell_type": "markdown",
      "metadata": {
        "id": "tVsIe3DzXZ3S"
      },
      "source": [
        "# Usefull commands\n",
        "\n",
        "> airflow dags list\n",
        "\n",
        "> airflow tasks list < dagid >  // lists all tasks under a dag\n",
        "\n",
        "> airflow dags trigger -e 2021-01-01 tutorial  // to trigger a dag\n",
        "\n",
        "> airflow tasks test < dagid > < task > 2021-01-01 // to test a new task\n",
        "\n",
        "\n",
        "> airflow config get-value core executor  // to see current executor\n",
        "\n"
      ]
    },
    {
      "cell_type": "markdown",
      "metadata": {
        "id": "I9SWL9H-8G73"
      },
      "source": [
        "> pip install 'apache-airflow[postgres]' // install postgres for airflow, prerequisite - install postgresql\n",
        "\n",
        "> pip install 'apache-airflow[celery]'\n"
      ]
    },
    {
      "cell_type": "markdown",
      "metadata": {
        "id": "-SCcMrMIZdy7"
      },
      "source": [
        "# Overview\n",
        "\n",
        "* DAG: A DAG ( Directed Acyclic Graph ) is a finite directed graph that doesn’t have any cycles ( loops ). A DAG represents a collection of tasks to run, organized in a way that represent\n",
        "their dependencies and relationships\n",
        "* Operator: a class that acts as a template for carrying out some work\n",
        "* Task: an instance of an operator\n",
        "* Task Instance: a specific run of a task characterized as the combination of a dag, a task and a point \n",
        "in time.\n",
        ">By combining DAGs and Operators to create TaskInstances, you can build complex workflows."
      ]
    },
    {
      "cell_type": "markdown",
      "metadata": {
        "id": "exHFwzIwlqQf"
      },
      "source": [
        "#Sample code\n",
        "\n",
        "\n",
        "![image.png](data:image/png;base64,iVBORw0KGgoAAAANSUhEUgAAA84AAACqCAYAAAB8mBaJAAAABHNCSVQICAgIfAhkiAAAIABJREFUeF7tnQV4U1kThudf3GVxLbIsDou7u0Nxl8XdCyy+UNzd3Z3iDi2uxd3dZXF2/5kTbpqUNFRu0jT95nn6QK4cee9N7v3OzJnzv1evXv1HMBAAARAAARAAARAAARAAARAAARAAAYsEfrG4FRtBAARAAARAAARAAARAAARAAARAAAQUAQhn3AggAAIgAAIgAAIgAAIgAAIgAAIgYIUAhLMVONgFAiAAAiAAAiAAAiAAAiAAAiAAAhDOuAdAAARAAARAAARAAARAAARAAARAwAoBCGcrcLALBEAABEAABEAABEAABEAABEAABCCccQ+AAAiAAAiAAAiAAAiAAAiAAAiAgBUCEM5W4GAXCIAACIAACIAACIAACIAACIAACEA44x4AARAAARAAARAAARAAARAAARAAASsEIJytwMEuEAABEAABEAABEAABEAABEAABEIBwxj0AAiAAAiAAAiAAAiAAAiAAAiAAAlYIQDhbgYNdIAACIAACIAACIAACIAACIAACIADhjHsABEAABEAABEAABEAABEAABEAABKwQgHC2Age7QAAEQAAEQAAEQAAEQAAEQAAEQADCGfcACIAACIAACIAACIAACIAACIAACFghAOFsBQ52gQAIgAAIgAAIgAAIgAAIgAAIgACEM+4BEAABEAABEAABEAABEAABEAABELBCAMLZChzsAgEQAAEQAAEQAAEQAAEQAAEQAAEIZ9wDIAACIAACIAACIAACIAACIAACIGCFAISzFTjYBQIgAAIgAAIgAAIgAAIgAAIgAAIQzrgHQAAEQAAEQAAEQAAEQAAEQAAEQMAKAQhnK3CwCwRAAARAAARAAARAAARAAARAAAQgnHEPgAAIgAAIgAAIgAAIgAAIgAAIgIAVAhDOVuBgFwiAAAiAAAiAAAiAAAiAAAiAAAhAOOMeAAEQAAEQAAEQAAEQAAEQAAEQAAErBCCcrcDBLhAAARAAARAAARAAARAAARAAARCAcMY9AAIgAAIgAAIgAAIgAAIgAAIgAAJWCEA4W4GDXSAAAiAAAiAAAiAAAiAAAiAAAiAA4Yx7AARAAARAAARAAARAAARAAARAAASsEIBwtgIHu0AABEAABEAABEAABEAABEAABEAAwhn3AAiAAAiAAAiAAAiAAAiAAAiAAAhYIQDhbAUOdoEACIAACIAACIAACIAACIAACIAAhDPuARAAARAAARAAARAAARAAARAAARCwQgDC2Qoc7AIBEAABEAABEAABEAABEAABEAABCGfcAyAAAiAAAiAAAiAAAiAAAiAAAiBghQCEsxU42AUCIAACIAACIAACIAACIAACIAACEM64B0AABEAABEAABEAABEAABEAABEDACgEIZytwsAsEQAAEQAAEQAAEQAAEQAAEQAAEIJxxD4AACIAACIAACIAACIAACIAACICAFQIQzlbgYBcIgAAIgAAIgAAIgAAIgAAIgAAIQDjjHgABEAABEAABEAABEAABEAABEAABKwQgnK3AwS4QAAEQAAEQAAEQAAEQAAEQAAEQgHDGPQACIAACIAACIAACIAACIAACIAACVghAOFuBg10gAAIgAAIgAAIgAAIgAAIgAAIgAOGMewAEQAAEQAAEQAAEQAAEQAAEQAAErBCAcLYCB7tAAARAAARAAARAAARAAARAAARAAMIZ9wAIgAAIgAAIgAAIgAAIgAAIgAAIWCEQ1so+m+46+/Qsvfn8huTfVx9f2bQuFB7yCCSPkZySRU9G0cNHp0xxMzl8B15/ek3nnp0j+df7ibfDtxcNDFkEMsfLTDEixKCk0ZKq74Wj2503d+ju27sk/95+fdvRm4v2OTCBgkkLqtblT5zfgVvp0zSv+17qA95tQsTlCvGN1N6V8GwI8ZfS6ToQ0n67/XsB/vfq1av//HtwUI8TUdFrXy/yvOepXqhgIOAfAiIU6qavS63/aK3EgyPZ0otLacrJKeolCQYC9iAgA0ltsrWhOunq2KM6f9chv+9TT02lJReW4Pfd39RwYEAIlE9VXj0HCiQpEJDTbH6svM8MOzyMNl3fpAZPYSAQHATk2aB9RxztXWna6Wm0+PxivCsFx40RzHXKvSi/2W553EKEI+xnuOwmnOVL437IHQ+Vn10R7PeTgHz53Au7KxEd3CZCuc32NngIBPeFCMX1y4DS4oqLHeJBJIJBvg8QDaH4hrRj10UcTCk1xSEGUsUZIANGMBBwFALybJDvhyMMMMm7Ur2N9TCY6ig3RzC3QwY+RUA72sBOQLDYRTjLC5V4IUwtTYSMlCZiRkoUzvHDDgMCFMfqR+DBlzt05eM5uvLpnFmh8sUTAR1cJg+CCqsqmImEaBxSnjFuZsqb1LE8IcHFCPXqT+D8k7N0/qk33eMQaM0cYTBJftvlN97UkoWNSpkixKbM4WPrDwIlhioCr//9TN6fXpDnx0dm/RbvmgwcBdfUBRkkEkEgEXSmVjhxPnKJnpT/8G4Tqm7UYOzs6afn6DS/l9x+e8+sFSKeg9PRYOnZkDRaEsoUJz0P+GYIRmKo2h4EXn+S6bjnyevBYbPq5Lfbo7pHiBXPNhfObnvdSLzNmmWLnI8GJp4MwWyPu9ZJ6hDx3P9+WzMBLSNW8mdv8y2aRTAPLjqcaqavZ++moL5QSmDrdQ/quLUVveUcEZrJQyg4vAu+X4xEMC9LWIwys2iGgYDeBIY8P03uL08biw3OFzARzRJpoVnllGVpXqmJFNPBphPpfQ1QnuMS2HvPixpvb2cmoINLPMt3Q74jmolgnlpyLBVInNdxAaJlNiEgAtr9yGiadma2sXz57T5Q74BN6rN1oTYVzr6/OF0TDKG6sVvZuk8o30kJTH8ynGY8G2Hsnb3FgngYCi4uaAw5Sh8nI82tvIySwrPgpHec43brDd+LIp633TC8uIvn2bupt11HcGUQSb4PmtWLlppGxM1FMX4J77jg0LIQT0C8z7Uf7qY7X9+pvkjYtnie7Wkyn1n+xGLw4Om8UpOoSqqy9mwC6gIBiwRe8bOh074+NP/icsP9yc8GESj2jMyQOf/ybNCm7tRJW4OGFRrIz6foFtuMjaGDgOf9Q1TXoyknhn6rOtwqaysaVsTwOxqSCNh0OSqZ+6NZizg9IJpD0p3hgG1tGa8n1Ynd0tgy3+Ghtm6yzGPTktqJp3lNzS0QzbaGjvItEojOL0NzKy8lGbwRkxcUie6xp5n+vheImICmxy8A0WzPCxBK65JoBolq0EwG6H2HS9sSjTwDTOc0jys8BKLZlsBRdoAISMSDDOTIlAExLSlvgAoJ4sGm+Ywycli2eJohmoMI1QlOl2iDJRXmGHsi0cghMVG0zYSzaWZVmc8sogcGAkEl0DJuT0oYLqkqRr5wpqFyQS37Z+ebviyNLzONRLzAQCA4CYwvM91YvWR4t1dyLvE2a2IlOnuYZyTA3P7gvA9CW90innvFymrstqxsYC+TurTvmYRnN05f215Vox4Q8DcBEc8SDSEm70n2EihSjzyLNBPRDAMBjYCI51ZZmhmByCBLSDObCWePax5GFhDNIe22cNz2RgsTg7olGGpsoOl9ZstWi0jQXpbyJi5AZVJVsGV1KBsE/EUgA88T+jNra+Ox9hpIMq2nbYz0JHObYSBgTwJ9fs1KMmgjtvnGZrsNGkldmom3GQYCjkhAEtSZDurY69lgGv0hAilTHCQBc8T7Izjb1Ct3V2P1pr+nwdmmgNRtM+Hsdd/L2I7skfMHpE04FgSsEpBs7Jqde2aecdvqiUHYafowQObsIIDEqboTyBg/s7FM7yfeupdvqcADd32SehSKnMDSIdgGAjYnYJq1XaIg7GGa5068eSJOYCDgqASqpCpnbJq9nAym9WSO6/Ou5qiM0C77E5CwfQnhFxOHlL1+u/Xqqc2Es+adk7Ba8RLCQEAvAqZLmAXHFy5jPB+holefUA4IBJZA0ujJjacGx/cBGbQDe+VwXlAJFIzkM2hjj2kKpgOoWSEKgnr5cL6NCQTHkmim38NMcQ3iyMbdRPEhkIBpJII9frv1RGQz4aw1UpuPqmejURYIyLJm9jRTD1uMCDHtWTXqAgGrBPImsf/8YtOIImTRtnp5sNOGBFzC+0wRsPegUZEkiKSz4aVF0ToQMI2IuPv2rg4lBqwIhGkHjFdoOjpZ9CQhtrs2F84hlgwaDgIgAAIgAAIg4LAEMLfeYS8NGuZgBOyVHMzBuo3mgIDuBCCcdUeKAkEABEAABEAABEAABEAABEAABJyJAISzM11N9AUEQAAEQAAEQAAEQAAEQAAEQEB3AhDOuiNFgSAAAiAAAiAAAiAAAiAAAiAAAs5EAMLZma4m+gICIAACIAACIAACIAACIAACIKA7AQhn3ZGiQBAAARAAARAAARAAARAAARAAAWciAOHsTFcTfQEBEAABEAABEAABEAABEAABENCdAISz7khRIAiAAAiAAAiAAAiAAAiAAAiAgDMRgHB2pquJvoAACIAACIAACIAACIAACIAACOhOAMJZd6QoEARAAARAAARAAARAAARAAARAwJkIQDg709VEX0AABEAABEAABEAABEAABEAABHQnAOGsO1IUCAIgAAIgAAIgAAIgAAIgAAIg4EwEIJyd6WqiLyAAAiAAAiAAAiAAAiAAAiAAAroTgHDWHSnRuIX9KXvNX21Qsn2LbNavPMnfz+zo2X2qv4dO7/7ZoQ65//HjxzRh/Di6d+9esLRv57ZtlChGdDrk6Rks9Qe00sF9/1LtDQnmm+23b99U24cOGBCg5mvnjfj775+eJ8dIHZ8+ffrpsY54gJeXJy1evIhev37tiM0LsW365+MXilp/Hg1dczrE9sHZGz5wQH/as3s3/fvvv87eVYfsX85iJaloxSoO2TY0iujihQs0c+YMevnyRajCsW37Lor5axLy9DoUqvqNzlomAOFsmYu/t95/cpv6TmxN56+dNJ4TIXwEihYlhr/LsOWBnid3qPa9//jOltWE+LJPnTpFff/qEywCOmzYMBQjZkwKEzZsiOAYIUJE1d6QYCGNrSMw/fr1G+3csYO6d+sa4gX0ttP36M+p++kdi1Z724TN56j/8hNm1caMHJ4ihgtj76agPn8SePHiBS1YMJ/c3HqSp+cBCGh/ctPrsKhRopD8wRyTwL///UcHvbyoR/fuNH/ePIcU0Ldv36GWrTvQyZP6DVCq94gYMShsCHlHc8y7x3laBeEcxGv55t1L2nxgBT16dt9YUutavWnv3BtBLFmf02/ev6La9/nLZ30KdPJSgkNAFylegi7yj32uPHlCBN0ef/2l2hsSLKSxdSSmX758CfEC+vKDV7TM6wZ9+vLN7mgPXHxEW07dNdYbJWI4ujejLnWpmMnubUGFASPw9MkTmj1rFgR0wLAF+eg9G9fRxmWLg1wOCrAtga9fv9LevXscUkC/fPmKlq9YQ/fuP9ANQvFiRej2jfOUJ3dO3cpEQSGXQMhwcenA99u/33j0+BuFCxteh9KCVsSXr58doh1B64Vzny0CWv7++OMPquZa3bk7a6F38mAMEyYM/e9//7OwF5tCEwFNQO/bu5cKFylCFSpUdKruv//0lSJHCP5H4ddv/9Iv/H375ZfQ851zFPZ+3dCagN6wYQNVqlSJ/kvu15H6b5fvXbhw4fxV8Pv37yly5Mj+OjYkH/T582cKHz743+HsydCRr60moCU6o0CBglSpciV7orFLXe/ff+DvViSrdQmHX375Rf2FFvMPF2dlEfxvC4Eke/bKcZq+cjhdvHGaw6Jj0h/p8lCHegMoVnTD3OLZa8bQkk3TaMOkEzRgSjs6cGI7rRxzkJImSEEPn96liUsGkZTx+t0LSuOSiRpWbEeFcpQxa414a6csG0KXbnjT81dPKG7sBFQkV3lqVaMnRYoYhWasHKHaINZjTGOKEzM+bZtxgcseTPPWjaMTK56rffPWjad568fTzIEe9NeElnTtzgWKGikaZUyTg7o2GkIpk/xurFdE9aSlf9O+Y1vo46f3lCtTYWparTO5dspDI7rMo+J5/P/S2nJgZTp+3jBvtniz36h0/mo0tONMVZfXqZ00f/0Ekj5+/PSBksR3oWolG1GNUk2NbdH+c/nWWZq4eJAKR48dMy7lz1qC2tTpQxHDW/8xWbV9Lm3av5z7e5GiR41JRZld8+rdKUbUWD/UEZQNO3ZsD8rp9PbtWz/P1wT0zfQ3iWz0vN67ayfVrVaNVm/aTHkLFFBtOczhUGNHjKDzZ71JfpTTZchAXd16UYHChf1sq7Udu5nR5HHj6Orly/ThwwdySZGC6jdpQo2a/alOkzm8SWPHIvcxY9QxC+fMUQ+BjJkzU73GTah2/frG4mV+8KSxY+jB6zfWqrS4T+qZPW0arV25kq5fu6pegqRvHbp2o4IsyqTuwrlyUvM2bWig+zCzMsaPGknDBw+mddu2K+/8tStXaNhg/h6fOUNPeZ56/AQJqWzFCtStV2+K/D3czxJb3w37WZt8H79u9Sqaw324dPEipf4tDdWqX8/I0fex2ucP/GI7cugQ2sfzJ2/dvEnJkienOg0a0p+tW+v6sH316iUF9ftw7do1i93QBLTMASUbO01FUP29+hTtOvuAbj55S8njRqVGhX+jNqXTK2E5eesF6rnoKK3oUpzKZUtqbK/rqJ104vpTOjasCjWctI/E6yuWvPUyqp43Bc1rW5gqDttGEjLd2/UPajHtAD1985Euja+hjtt+5h6N9ThHl+6/og+fv1KKeNGpabE01LxEWjMmj16+pz5Lj9OhK0/UcTlSxaG/uLwsLobnj8xl1kz+P75pXqpfMDX92mQh9a6WVf2JxeHPA2pmo8evP9D0HZfo4+dvlCxOFGpS7Hfq6sszffDyYxqy+jSdvvWcfk8UQ7E4dOWx6uNR7m9AzOPEHao9djftGVCecqaOazz14r2XlNNtPc1vV5hc86RQ228xf7kWnpce04t3n8iFr4Xw8M1E2jFyvTd5336uBtwKpI1PvapmpfRJfX7vrbEPSPstHXv9+nXa8TZozwK/8hJoAvqfeO+JElmqPejbdu3bTyWquNLBbZupz99Dac8BT4rJ4aE5s/1Bg3u7Ue4c2Y2VlKxaXe0b6NaDGrZuS0+ePaM7Zw2hqSfPeFPfoe4k/4r9kTkTDerlRjn+MNxzWiEPHz2m7v0GkOfhI/Th40fKxfUM4nrkeFObNmceLVi+gs7y/NbYMWNR1QrlqF+PbhQ7ls91vXn7NvUbOpz2HTxIz1+8pJQuyalN0ybUulkTY1Hv3r2jYeMm0Ip16+neg4eUIF48VZb0IWrUqOq4vKXKUsQIEUg8z2LD+Xg5Z/+mDVSvRWvVhujRo1GeHDlo7JDBlD6tz7uTiOreg4fQ+s1b6D0/44oXKkR9unamtLny0qr5c8i1kv/fnV7zsy2mSyoa1r8v9ezUwRQHxU2dlqpXrkhTR49U2/3TLzlOBHA/9+G0ffdeun7rFqVInoya8bOjY6sWxmeAF1+LAmUr0Fmv/bRy/QYaO3Ua9/NvatagnlkbAvshqM+Ghw8fWqxaE9D79++jOxk4Gs2Gs1EWLlpKM2fPpxs3bqr7RrzA/fu6UYoULjRsxBgaNnyMamPDxi0ofvx4dPmCYRrls2fPqd+AIXT4yFF6/uwFpU+flho3qk+1alYz9unwkWNUplxVOui5k9av30RTps6koUP6U6JECcm1Rn3y2LCSCuTPq45PkDg19furJz3m6JSZs+bRx4+fKGnSJNS4YT3q3KmtsUz5z6HDR8l9+Gg6c/ospUmTmlq1bEZHjhxXc6alroBYrz4DaO68RfTovvlzWtrQvedfdOXiKYoXz/Cb7nXwMI0cNZ7OnjtPX798pQwZ0pFbjy5UqFB+syqlHaPHTCTvs+fUvZgvb27q2aMzpU/n89yrUq0Oh6tHp15uXalVm0707OkzOud9NCBNd5pjQ6RwPnByO3Ub2ZCSJUxJNcv8yT/672nd7oV07NwBWui+yyieif6jPixUP3z8h1rW7Mnb49D1u5eoad+yFJmFb7lCtVj8RaS9xzZT5xH1yO3PkUbhePvBNarXoyjFiBaLKhapQ9Eix6Dz10/Roo2T6d37N9S35Ti1PU6s+DRkRhdqVZMfbJmL+HljfOFQ6Y7utei35BmpZulmJHOjl26eTp2G1aF1E44bfzjls4jdikXqUvxfE9HOwxuo5cCAvRRpjRBRvnrnfFq1fQ6N6bGIkiVIpXZ57FtG/Se3pQyp/qC65VqqbfuOb6Vhs7orQV+2oOElUrY/fMrzRViAZ0+fn+qWb0VnLh+lxZumkveVYzRn8BY/X/oHT+9E63YtpCI5y7HwL0P3H9+m1Tvm0cFTu2i++w7mqV9yqSWLbR/a9fkzJ3qykXBWF8DEzpw6SbWrVKakyZJRzbp11Tw7j3XrqEGN6rTD04tSp0nj+xSrn1cuXcoP55aUNVt2JUjFtm/eTL26dKFo0aJRtZq1jOdPGDWKXjx/TjXr1aO4cePRts2bqEvbNvTo4QPq1L2H1Xr8s7N7h/a0bNEiqlClClXiwYI3nIBq1fJl1LBmDdpz5Aj99vvvSkhv8fD4QTgLg+QuKZRovs7irlTBAhQrdmxmVI+i80vkmZMnadrEifTmzRsaNWGif5qjjvlZm1xSpDSWtcVjI02fPIlcmVn+QoVp+xYDx7v84vjXoMEW6/zIL6XlixdTgrlmnbpUtUYNOs59HdC7F506fpymzp1r8bzAbJREd0u8gvZ9+I8rtubzlIEGW5qIxyL9PZRgrsdis2a+lHSEBarb4mN07PozJepal0pHa47cpM7zDlHBdAkoWqRwtPLgDZI5zQt4f9wYkWhE/Vw0Z/dlmrnrMi3vUoxSxff5zXnx7jNVG7GDCvC5TYvFV91ZcuAatZjuSdlTxqG2ZdKrbZtP3uU6DlN0Lr9WfsPv573n/1Chfh482PQv1eX2xWARvtzrOpUYtJnW9ijJgjEBbelThgasOEGPX32gqS0K0G8J/P69m83te86CtFP5jBQ/ZiRauO+qmhsdn/tQv1Bq1Y79Fx5S1ZE76beE0ald2fR0n9vw57T9FCdaRIodNYI6xhb25sNnKjd0G0liswo5klGiWJE5/PyeYiJztRvwYIaYsGs1w4v+SPErtSqVnv759IUWH7hOxQZuok29yyimmllir0fbz8og46OgTUn6j+dwWouykQEwW1uNJs1I2tGtfVs1aLpk1RoqVL4SbVm5jIoVKujD8eVLKlujNhXOn49aNm6ktov4LlezjhKljerU5u/x//j81ZSvdDny4BDoUsWKquPu3rtPOYuXUuU3qlNLifBFK1ZS/jLlaeuq5VQon0EcNO/YmWYtWERVypejSl060w3+nZs2dz5t2bmLju7crl6k37x5ywm9qtK7f/7h48pS4oQJyYMHN9t060ERI0agJvXqqjobtm5HG7duo8rlylLD2rXoyPETNGbyVHr2/AXNnzpJHWPJPrEgLlerDmXh50LbP5uqNoyfNoMq1K5H104eNb6DyGcZbGhSrw4lSZSIVq3fSEUrBe7dyVI7/Nrmn37JMyB3yTJ0/eYtxbtu9Wp08Ogx6tKnLx05cYKWzTY4NLQ6Rk2aogY0urRpTfl4IFkvC+q70s+eDfKu8uEDf0cM4yB6NdtYzrQZc8itVz8l7Nq1aUl37tyl9Rs3KWF4yHMX1a1TkxLEj0+duvRUAq9okULq3Kcs8goWKa0SXsoxIqi3c8IvmQt9k6+JW88uZm2dNGk6HWIR3bZNC8qVKwcnjvWZiml64Jx5C+k5378d2rem+PydW7R4GQ0c7M7lx1X1iB04cJCq12pAv6VOSW3aNKf7HELesnVHihPnV7PBJ7MG6PDh1KkzVNW1LiVLloTq1K6h3iPXr/egGrUb0oG925SAF1u6bBW1bd+FsmbJTC1bNKV/+Hss20qVqUwb1i6nbNl8BtxevnpFNWo2oPz581BeHnQIrRbihPPXb19p7Py+5JIoNc0bsk15fsXSpcxCvcc3p417l1DDSu3VtldvXyiBPK7nEuP17TmmD0Vl0bZ0xD7lBRVrWq0LtRtSXWXDLpPfVSX22n1kI8+L+0j920yiPCaC+OPnD3TUe586L2HcpKpesZRJ0lLmNH7/wMl5BdOUpmGdZ6vjxcL8EobmrB1L9x6zByphKpIBgcPee2kA1ymiXKx+hTZU3604PXtp8Jx8P9Vf/6Rxyag8yWJZfs9NMaPFVv/f4rmKokSKShN6rzBuq88e91LN09IRzpBtKpwfP3+gvMQyMKDZ+EUDaMGGibTNa7XZsdr+05eOKNHcueFg1X7NxOPdenBV9nSPp3Z1+hq3B/U/dVnkBcXE47yRQ/GsWbhwdlLN3Ih1q1aRePc28stJzO+j+iXLlFXi9+ihQwEWzmtWrKCoLJAXrV5NsVloirVq34GypE7NP6B7zYTzwwcPaBkL1EJFi6njOnTrRnWqVqGJ7Imu16gxxeWHQ2BNfrilbzlz56YZ8xcYiylboQKVKVKY+3aYPeEplaAWz7J4kjNlMXy/RCifP3uWuvbqpc7bvGE9j/B+pLFTphjbKtvloS198q/5t01aeZfZy7xiw0aj578jJ0kRPjO5HQ2bNqNkLi4/VD2DhbZ4x8VTno09JZqNHuZOo93dqXaD+lS4WPEfzgvMhvj80lA3d9C+D+JxPsrC3i+zdTjaxC3n6crD17Sjbzkzb6hko5a/hoVTU/FMiWlK8wKUr88GJVD7sLe3B3ugq+ZKTtW+e0ozJY9NKeJHU93I81s8+pVFpmb7WIiOa5KX/izu47FazsI7Gs9DXtO9hPHYjuUyUsq2y2jP+YdG4SxteP3+Mx0eWomFrCEJZL2CqShz1zXKWy3CWcS8CNq3H76o/4v5Nc/6Bg8QHBxSiTJ898xW5/b/1n4F7T73wCic/2Lvdgr29O48iBIBAAAgAElEQVTuX94YVp6L+9RmppdNhbPnxcd059k7Wta5GFXInkz1o22ZDDxwsFF520U4C4veS44pz/+SjkVVRIBYh7IZKFev9dRj4RHaxe3WzBJ7484g/CdTpsxUs7jPoG9gilrNv09+eZ2lPHs8Bz59+kzenvsoYQLDgI6Ip6yFilKP/gPp+B4f79Tu/QeU17NV08aqqyK2u/TpR3F+jU0n9u7kfw3RD13bGc7v1ncAnebfWfn+Dhg+gl6xiJB60qQ2DAg1YjGbOnsuGj5+ghLO4v0U0Tz670E8eNraiLOOazUqXpl/o/m4of3+Ul7m23fv0rrFC5QoFuvcphXlKFpSiT8RzuLBXccRVeJdHTv0b2NZFVnsHuMpUdZMIqTy5SpFy+fMMh4WlqcRDR0zTgnR31KlpE3bdtCOPXtp7uQJ1Liu4d2pK7c5e9ESJJ51W5l/+zVmCkcoXblKnls8zCIHBg4fSQOGjaCmzEgb1JC27j94iM4fOkCRIlmP6gtov4L6riQeZxVxZMUiRtS3zaZVLV22kjJlykCbPVYbN6diQTpnzgK6zh7odByBkDWLIWJC/p8rpyFKQ7yujx8/oS2b1hjnKXft3J7q1m9KY8dPpvr1a1OSxD6hJF6HjnDU3y4jf7+E882bt2n/3q2UIX061Z5q1SrxwH922rP3gFE49xs4hFw4umD71g3GkG9pV7sO5lEbVpAGateqNevVe+TObRso5vdkrmVLl2RvcUfldRfh/JqdDH/1G0Rly5SkhfNnGgehZFAiX8ES5Na7P7d7vbH+/fu9aMwod2rapEGg2uQsJ4U44Xz5pjfdfniN/mKPryaa5WKUzFuF3v7zmlwSG0bAtQtUu2wL47V69/6tEqZtavcximbZKQLWtWQTOnp2P52+dJgKZi/N3tXWVJ09w6aeUZkn/ZrF+Ocv7H0MhJm2RU6XEHExCZUW23FwnRKy5QoZRqpkm/SxSvEGLOr7qWP0sJFd56mRaFN+796/pi9fv/zQNwnHbvR9IEKr+0/XrrRi6yzyOr3LonDec9SDw60iUy2OBjC1nBkLqrD0w2f26iqcS5YsFSQs4qXzSzj/njYt1ahegzqc6kgP71sOUwpS5RZODhs2nHoJWrtqpRJjMtc4P4edHb9w0cLRP980a+FC5UXRwpflDPH0SsI4CS8yNRG1mmiW7REjRqTOPXoqD/ienTuVBzywJi9sp/nlIQKXaWrPnj1VHz99+qj+1YTztk2bjMLZY91ata96rdrq3+Zt2qrwaPE0ayae0JecFfcTC2r/mn/bpJWXJ39+s3B5Uz6e+/ZRXQvCeRMPyuTl+V+molnKa9K8hRLOEr6tl3COyaGUQf0+hOdVASwJZxXCxf2vUqUqrV5ouB7+5RyQ49Yfu63EpmkIsZzfomRaJZwlfFuEs4QrS8jzwBUn6dydlxxfRDSmscFT9rP6ZE5z4yLmz4rFLPpE8kkSL81esSj8/PVf+miSXGz14ZtUJWdyo2iWY5PGiUoL2heh9+xpDagVSp/AKJrlXPFgJ+PyPnC4uph43k/efE7D2YNuOhe7boFU1IcFqy0tXBjDnL11R29R0QwJFZuYUcKT92hXY7VeHML97O0n6lg+g1E0y07x+lfN7UIzd14i8VxHj2QYfLTEXo8+pEqVikrmCdqzwGMjD5hbWEZOXjzL8wBfmFRhaff6PXo0188yWjRqYBTNclDSJImpNYvjIaPHKoGaPKlhaoLMaf6zoY/XR8Klvc+fp7//6m0UzXK+COg2zZpSHw5jvsEhwqlTpqTla9dTdQ5d1kSzHJeMw0xXzJ1F/3z3qq/x2KTmTbdr3sysrUU50kdCpLezUBXhHO57pmHx8JYoXIii8DQZ8WCLN1gzyUosvx+79h1QSZs0keLfRGAdWjQ3a0PWTBnV5/fi3WRbvnYd/cqDwg1q+bw7STuaN2xA3fr2NztXzw/+7ddqHmwtUiC/mWiWdogHXYSzsDQVzs3Zm6e3aJb6gvpsOM/3lyXhLO8XufjdoWLFStTiYAu+xvf0xGwsS+618/wedOz4ScqZI5vaLgJY/qzZ5i3bqHChAmbJveS9qgufJ0tN7d69lxo28Hm3acT/9w//ggXyGUWz1B8jenT+HiXlsHzDO/2tW7c5V84Zch8ywGyedO1a1Vmw+gwgWWt7YPeFCxdWvUeuXLVOCV3pb8GC+dgB4fPMOHjwiPKYt2/Xyix6NG7cOFSlUgWaNWc+vWHHUnR2vIjJXO+GDQwDU4FtlzOcF+KE851HhmzVqZMaRni0iyA/ytVLNfnhmmgeV9lxhwW3mMxblj9L9vLNc7U5Aodwv3jzTHlOZU6yhFbf4DDv15xFW+YyB8aSJHAxO+2X/5knErjLfZP2ipA3NfGu62mRI0alCxx2vv/ENrp1/6qxb+IV923SHlOBLfujcDi3bJf2WrJbHOYu87Pz1E1oaTcliJPE4nZH2iiCWQRCWv5XmfVBcV2bLuHUMje3D3t7R/49hHLx6H/BwkWofOXKlIDD4AJqUXgekIR/79iyVXk+b/PL0+VLF+kjj+T7tnQZDC8kptszfvf63uZQ46BaNH6wbN+yhUdzPenmjRt0i/+kTaaWImUqypQ1K4drb6RuvXurXRvXrqXc+fJR8hQp1GcRrM+fPqUlCxbQpQvnVZ+usDf4JYcvxmOva0DMP23SyrPGR/pjya5fvUrvOfzJr7Wvn/P8REc2TTBLUjDxaNvarrK3+R8WjabzhE3rfMZzkjXrWC6DCtn24vm/c9sUorjRzQdl/Gprsl+jUNjvolA7JiqLwpM3nqlM2JcfvFZzey+quc4+oekPeW6ztM103q52fkUOZQ6MpeR51L7NND/YjceGXAISpm1q0n6XeNH89GT7LjMwn4tnSkQ1eG64ZCZfe/Q25eL50DJ3uTIPHGRMZohekeslVnLQFj+reMHCWhPOltj7eWIw75A5lOXLV6DiJUqoRF2e9zxt3qLMHJLs27R5x+Jh1YRzcha6psvjXGOPm1hGk3mJWjnaNjk/cqTIKhzT0nESkq3Z5avX1LzcCPET+26O+pwsieE5LoKvDoceS6i3zMvNw3OxJXzclV+8tb6IiBXPtXjNk2XKqrYXzJuHKpUtTSXYC24tPF7qSpXCxawNvqNervGzSY4RcWBqv/+m77uTWeH8wb/9unztumL+v1g++QRMy3rK829NLRVPSQoplo2ngFVzdaXEiS3fJ3r2Y0D/3tSkWWsqWbqSGujJmzcXlShelMrxfRQliuXkeDIQdp/n1Fes6HNva21Kl84QcXSTBa6ppUiR3F/NtnSc6b15g79vYqnZK25q8r11cUlGnzm6xFbWuuWftGvXXjXveYj7KA5vz8VzmwtQZeaQMGECVe01vi/FZF63X/aScxZowjkpf+exJBdRiBPOX9krKub7B9Kvix6JPZ+aaRm1m1TtRHmzGEJRfZ+XLIHhBpfkWb3H/anCugtkK6U82ilrpOFQ8GV0hL3WgbGwYXw8GZbOFw+ghCD5tl98CWnf+wP6edbq0TRthTv97pKZk48VojxZivL/M5HbWPORZWvlSpvCh7U8ty4ce0zjxErAichmWCziZxwsnmSnjeK1qF6jpo9gtlO9ptWI8NvKc9UOeXqSJPU6xPOa+/G6okMHDqDJM2dRGfZ8BMTGjRxBI4cMIRHABTm5WOFixVTSr5aNG/urmDA8KCUmyVeCYvIAa8EegF3btysPa7acOagyh2UnTpqMqpQ29xRV4kGLIQP687zgGzwP7xtdOHeORk/0mQcnXFo3bUoiekuUKk0Vq1alNJw8bcWSxbR/j/89QgFpk1991/hE4KQ2liw8h/nnKZmP2nbqbGk3/RrHZ/6nxQOCaaPmRahatZpdBLPWzfBhf6H8aRNT5wqGiBzf3Y9jIo7ff/5Kz1mUiZ25/YJq8Hxo/5ilLNrD151RSbCyJP+VirB3VUSj/L/hpL3GIsX7LBZWx8zXYcOIn9tv+/TFUKelI8Lo2A4p/9u/4rf3MQm7nssJ1bpVykybTt7hudaPaAyHo7uvPcPbMnFis+z8HDD8Pmhzyy21Mx57nzWzxN7SOcG5LRJ7WkuXLk1leIqMX99re7ZPe98x/Q2O4kcWbUsiVBuMl99SbWnKn70AS+JGCRdfOsvyc1zzNItQWDJzOvXq1JE28BxmmWc8fPxEGjRiFPXq3FF5pcUkTLsGZ12W5F27OMx86eo1NImfZ+KJ3bZ6hdVs2T/LLi6/45b6o/0263mtfOd48E+/wvOgS6GSxalnR/NEY1q74n4Pq9c++3Vt9exHUMvKxO8QrrziSHJOdGkvk8Rcp4570c5de2jXbk7+6HlQLT0lEQwb169QCcJ8m3hdxX72vTA9z78Z6uVd15rJtAu/TO978xtPhTM1mce9d/cW8vI6TNt37iZJFNaLQ68H8RzsmdMm8oBgGQr3PUP93NlTOaeN5feQuHF9Bnsi+zE44VcfnXV7iBPOSb8LW8kGnZ6TW5naWA5nThyXEyr5ChHWjtG8zyLcJNmVqd28d4Uu3TyjxKTYjFUjKAHPYV7ovpPCh/N5Id60f4XZeXp+kIzfx87t55eXb2Ze5zsPLXuyAlP3Px/e0sxVI6lq8YbUp8UYsyJkuS7fdo897R/Ye2w6ACHJ1sTzXzqf5VEquUaHTu9W18f0PClbwtHjcHZyRzP58a/C4itrVvN7KjjaeZHDoeQHTTJoa1m0r7HXUsTlCM6wGRDh/I7DbMYOH67mJ48YP96sO3Kf+baL7L31bTK3WCwlz4kOih08sJ92bN1KU2bPpioc/q7ZvTt3fihWwrVFOG/Z6KFCuMXDLB53zcYMG0ZJOCRqM4e4mb7YruZEYwGxgLRJyhXvtm875+2tNrlwCKQlk+3iudEypmvHvHz5gvbs2EHxAxFFYKkevbZx1B0nBLGfF8F3u1NyEi/Jqq3NDdb2S0bnHZz1OiEnqNLMbdExNY9YkojJ3GiZH5yVE1QF1KSMYSwGmxRJQxOa5TM73VRMJmVPdQROiiUead82b88VOnvnBY1ulMf3riB9Tvl9nva1h2+oVBafouRFSbzipqI0oBWZy2Si2zyf2dRuP33HmbQ/ctKvOCqcvEflLDxQ8ZEaTNxLozacpfY8j1mul5gMaPi+ZpJpW44PCWJZ+iCCuVjx4iqk1b8vzwFl/rPjJXN0rWrmSa1Oc7ZbMdPQat/lpE5p8FKeu3iJPbllzHaf42gcMZkPLJ5i+c286CvSR/bLnOYznGhp4gh3DulOQVt37aacnI3bN4sVHOqd6Psc7Fv8+y2ZtLNnzUKZMqRXmayf85SZGo2bkfvY8dS1nSHPyS1O5JSGB6Yl07b8idj9a4g7jZo4WSUNC0jWa0t9lzBwEbWmTpWr373wvo/372dNdGnHSyI0SZCkmfTTP/0Slv/881554k3tBUdISaK1RAkc753IL0YimCtXqkypgvg+4Ff5fm2XQaMLFy6pxF5VKldQf2IbPTZTg0YtaOq02TRi+OAfTpd3h8ScFfvixcs/7Lt4ybAt1ffvzg8HBHFDypQuqoRr129SyRI+hcl9euv2HZVQLDAmuVl8myRKMzUJaZdBe8mgrWXRvnr1OpUpz04J9kCLcE6ZwkWdItM5tGzhWhmenodI7s+fLcVlVmko+WAYKg5BnU2bMjPFi52Ql5qaTp8++4TsneOlkiTjtQhDv0xCjvNlLa6yO5uGGUuIcpeR9VVysEgRDS9l9x7dUt5mU9H8kkO3JXO3Jfv3vx9vZEvHWdtWOGdZldBsKyfv0kz6uHbXfGun+Wvff9/b9+jZffr67QvFjmE+uiRZsh89u/dDWRJyLVxNTTzWsr2kH8K5WK4KvKzKB5q23N3svLUc9u42rpkKfXcki8c/XgMGDnII0Sxc/urRnapzyJypd0EeUknYM2tpVN0ay/v37qkEEXFMRg3l+ONHj9J9ni/n244dPkwyV1czacOY4cPUi1ahokV9Hx6gz5JVWuzXOObhaus5aZlvS8oDGX9kz05bN3moMO3SHC5pOp9ZyhJvs6lolpBnz/37fRdl9XNA2iQFSRSA/GkmL3/CR5KvFStZ0mJd5Xn9V1leTOZsm1rfHj14/mBzXiYi4PNiLVak00ZZj7N9hw52Cb2z1GQJA5alj2TJJFPrvuAINZt6gL5wNmuxHWfu0wLOQP13HV6apnEeSsKits0sL/59+/G32Jcj9Ydq7z1/p8qNG8M81PvI1Sd099k/xuPFA1s2axJaxfOcRVRqJgmyxFt97ZEhrFrb/rN6f2iIhQ0Sop2W53PP3ctLB5qEja84eFPNLQ6MRQofRp0my09pJiJh1k7zl8vFnC27YF8PnkP+wnicJFkTT7wMsAiPfL/HV6JZ+i8DHppJmHvl4ds5lP6WcZuj/2coL+NUuXKVH4SiPds9Y/5CtcSNZhJmOnnWHMrICYhceKUFv0z2yTFTZs9RL7yayf8n87Z0v6dR4cziIa7Ag7DL1qxj0efzHZNEV/14CcArvKyXWLUK5dXShX2HDjOrUsR1raZ/8tJQBjE+b8kyTgRWQs2v1kzmG0t4uXj5pD45Vo6Zu2Sp8Rj1TPmevTugzzWzBvGHymXLKrEuGcQ1k+SRpkkofZ9j7XOECOFVu89/F1basZN50NfU/NsvV14mURJ+ibfd1Dr07E31eZkteUaHBEuXLh116dLV7qJZY1OSMz1379nXDJUIPrl/wvA8elMzFZdlOPnVXh5YkbnRmol4HTN2onqHKFa0kE3wp+aBqt/T/EYLFixRyUw1k3nHMrc4MBaJBwLkvUyygWsm2cJXrTYs4aZt6+nWjypUrmH2Hikh47JklsYqb55cKrv30GGjjPOy5fxLl69QtRr1aO26jYFpotOfE+I8zpKsqkvDv1UG7cZ9SvO6xpU49OijEsOyfJMk+bJmHer1p2b9eIkkztgqWZ7FI7r7iAfPf75Of3eYbvT0isDefGAFDZzanv5Im5ce8LJMa3bMpyiRo9ETzjS9Yc8SToxVXc33FROxKw+JEtyewFrZAtVp/e7FNGhqRzp39YQaIJDlqKJ/X/c4MA8XWV5KTJaQypelOGXizN+J4yWnZVtmqqUokvP8aVlma+eh9bxGYzxVryRQ0zKJy3zoaSuGKbEr3vgzl4+Q56kdVDhHWQ53tyykMvH61BUK16ZFHlPUednTF6DLt7zVWtoSEi77HMkshfAEZ/uq167Do/RtqVzRImrZpi+fv3D48W7yPn2Kho0dG6CmiZdYMj3PmTFdPZxT/fabWrZpIyfbkgzZp04cV2XL0kpiCXkZj4acYKV2vfr0K4fuiNgTj2qXnm6U+PuctgA1wOTgAlyHhNz17tqFM0k3ZOEbjXZz2Las3Sxegq2cjCZHrtxqOSqxStVcadBffVSCi78GDTKrtijPOVy9fLlaKitX3nwkXuuFc+eo5bUe3r+vlryqVtMnUYxfbfZvm9J8n+su88XrVXdVazDH5uy1W3nZLPHID+AX7ti+wu20Opu2akXLOYRcEtXIUlRyTSScXAR4fV4jWyvbrzbae7vv+YP2rr916XS8lNE1qj9hD9XMm5JSs3Dcc+6hWq+4adE0lC5xTJXJud1sL+XhlCRf8h0W8VyNl2wav/m8cQ3kaN8TUk3eep5KZE6sMl5bstQJYqj1iadtv8RJEv9Tyz7JfOe1R2+xRzciHb/2lHZzUrJiHL49oFZ22stZtmXJrIacVVqSeS3l5ahkPWhtfWapQ+qWxF7iic7H84KTc8KvwJiE9I1qlJuq8PJZsuRVFc4cfv/Fe14q6w6l5mWuwn0PlQ5I2Vl5vWlZYkuydYv4lgzgMlf86FVDoj6tLMlSPmbjWV77ervK8B0zCieO48EEWZKqWu4UFIs/iw1iJm150KIwM6mcIzmX+ZHWcZK3SOHDmjEJSBuD49jgvvelz+HDh1NLRdXn5Qe/8sv9Ql5DWbLfLpo+xSyBj28+0vYxPI+4fK26lL1ICU6UZYjqWbRiFT3ijMKyHJXmjXXn8GlZuip3iTIqo3NMXlZqIc9RfsLL9gzo2V0VnYen0siSVrJklAhECak+5X1WLTUlyblkWSUxCb+W0OySVWtwRuvaFIsTgx06dlwdV7NqZYrFidVyZ8+mvOWybrR41NPyc8j7/AXawHk3xAterGBB390J0Oe6NVxp9qLF1Kx9J17m6iR7GBPQynUb+J3GsHLKz0K9fVcmXsq8vAyUCPHYsWKqQQAvzkQ8Z9ESNa9ZM//2q0PL5jRvKa8l36gpL0Xlqljs4GipfV4HqUXjhmbrUftuiyN9Ds7vh0wdcOWs1cuWr6ZadRpR/nx56AEPKm3l5F6SCKsOJ9wSk3cAsZWr1qrnQuVK5alHt060YSP/dlarTQ3q1VZTj7Zu20FHjh5X6xonS5bUJpjl+zZi2GBevrI+leZ5xJUrlqcHnJl8y5btlCpVCgrL7Q6oifd4zLhJVLtuE7UetAhySeIlc+hNrXYtV5W5u1iJ8jwYWEG9R+7ZywmQT3urzNhi0aJFpQH9elH7jt2peMkKVLFCWV4e7rliJQLd9zJdAW2rsx4f4jzOciFK5qtCU/ut5TWWY9NiFmcb9y5loVeUZvNLhbbElF8X7LfkGWjx8D2UNW1uteTUim2zKWb0X2mc21IS4apZj2bDVTjzQQ45HrugrxKMw7vModHdF6qlo2SbZMOW/7uWbEwnLnjRdBaYQbXx3A5Jcrbv+BZem3qxyvDdoGJbVawm0gNSR4m8lSlHhoK8ZvQM2srLR8mcjPG9lqmls1btmKvmOr/jbOSLhu+mzg0GqT7NWeMTwl2KWf/dfho9e/VELSP16Pl9alGjB43sZt0LLktqyQDHGy5blty6eOMMVSvZiKb0XfND+HZA+hMajq3ToIFah/gX/tGdwuHVc2fMUC9Mst6vZNkOiMkLw6KVqyh7zlxKWI4aOkStZbiNX5r687xnWZd0PK/drJkrZ60eNmYsneT1hadPmsQjueFUW7QkXQGp2/exskbzHPY4RGbxOXbEcJo9bZpaWmsnj8T/2bo1e8GPKO+yZjJvWUzmfJtm+pZtQ0aOonqNG6tM34P69KFjRw4r74KUn4LDAWWbf9ZcDWibBg0bTm06dOSlsw4qPpKpXK5Li7aG76jvPstnyc65hV+SGvC1O8Vrdk4YPVpl/x7MS8IM5f/DzAmI2No3qAI1K/Y7nWDxKiHBEu47skEuzpptCIN246WnZG7zhKZ5jXPXSmVJQq4cqu3Ombe1hFVVc7mQZK2esu0ir/NsiHiwxFvE5+ruJVXyq9m89rN4TyWj9oHBFcm9bk56z57ekRsMIfkiVg/yUlSyBvQyFsxjPc6qpGSydnNuXiJKs1a81nQaXq6qOy/HdILXnw6KFcmQiDx6lVZrJ8uSV9cevaa13F5JaKYl3QpI+eI1Xtm1BKVhT7bM7W4/+yCd5Tnikhnc1NIliUXrepZUYdoL919Tx8ryWf1rZqPpvD61ZjKAIO0RDtN3XKSNHC2Qnz3RO/uXo7Q80AHzP4FpY0aRLPm0mqepzGTvcwYetNu7cR2V5rXgf2YlebD14LbNlJa9XOK5nrlgIf8/NR3avsUsa7OI1dMH9nDocF5+PqxUwjce51qQekQwaibLO40ZMliFJ8vyTydOn+HcGA1p57rVRq98Bk5GJnOUM7G3e+7ipTR41Bi6fusWDeHs3vMmT1RFyW+grA8tIlvCv/v8PZQO8PKDtV2r0p4N69QLfFBt0/IlKvv4ek4+OXvhEqpYprRaC1tMS24UkDqW8rxtSZYmAw9N2nYg8ayPHDRA9VMz//ZLjju2azu1atKYjvLAtbB8zpEA44cNpckjhwekWaH62NEj3alLp3Z0lZNaDR02mtZt2ETpOcHXpg2rKHPmjIqNCNImjeuTJ8/tdedjxOLFi8uRdNupUoVytG0Hv9Oz8JR3qpnTJ9pcHBYuXIDWr13GK81EoPET2Jl07QatXLGQJPFgYO7LIoUL0oRxI0iiXCXxV68+nLGb7y/J3G1q9XmAQI6T98gJE6bSjFnzVJ/nzJpitpyUHLeK2xMn7q/qmE2bt5F4ordtXae85bAfCfzv1atXvqc5/XhUILbEHGd4WGaLnI9musDd7x+EIi4l23WZAq5mInnmqlE0a/VI2jLtHIdYm4e5+qdcZzym+a2KdPL9QdW1V5185hzZqq/lV5Ynr/teqvjVNTZT3iQ+L422qtOe5UrYUtLYsahd5y7Ue8AAe1aNunQgkGisYZ5p/sT5aVMN85BwHYr/oQjt9112vEvd+If92KAvgbnstU7Fc50LpU9oLPifj1/Ues91eX73qIa5A12hRHRItvC40SMFynsd6Ip1OPHAh0dU9v5WVZJbHjf1Z0uTrNoVVhnmVvbP3Z0G5OmhW3XiAS5RxVUJTP+IZN0qdoKCTp7xpmMnTylvrqkIHzxytEpSdv+CN8XzNV0pIN0WL1wEXqZPD4EfkHr1OPZ/433eGe39rvSq/Y/T//ToU0gqYz6HaadM4aKWgtJM5rvLes91alen4eyRDqxJFOFTnqKWkOfIO1rk5M/65H5kNA0/aoig9KjuQQVC0Dt1iPQ4/+yChNT9Mm946MyuNHpeHzUHW+ZrHzi5ncOqp1PFInUhmkPqhUW7QQAEQCAIBFYdukm1xuxW4eKyJvIdTuLVce4htVRWuzLpg1CyIdtsothRQpxoDlKncbJTEZC1p1t16Uadeveha7ws4Nu372gTh+KOnzaDmtSrEyTRLKAkeVJIFM1OdZFDaGdWcyK9uvWbqjBpWRP5zt171KWbG33gEOs2rc3XJw9oFyWiMBEnFw1pojmg/XS04wMeYO9oPXCi9vyRLi/1aDqcpiz9m9bvWWzsmcwJ7tzQMMdThPW+Y36vl2mKQ8oqnqeiExFCV4RAz06daNtm/3kVJaTZNBu13gSLc3IX/65DvMk6VNwAAA+xSURBVI2XIIkfgrKH6s0K5YFAYAnMbFWAGk/eR5U42ZZmkl18RZfiai3n65yUrNTf/nsuyFzr3QPKB7YpOA8EHI6ArAktmcAlBFzmIWsmc7RHDza8O4mw9p2cy6+OTBoxLEhZvv0qF9tDH4FpU8ZRsz/bUlXXusbOi4d46eI5vJRXMlq6bBUNGDTUX2Cqu1ahIYP7+etYHGQ7AhDOtmMbqJJr8VJaFYvUphu8PNa3b18pZdK0FI2ze2vWu/lokj9Y6CUwfNw4kj89TUYsZf50thw5AlTsLp6fDAMBELAtAfEIb+eEljcev1FZviWDeAoWzJLVWiwVz7u+PsmQrMm2LUHptiKQmD1HrXiObtLEiW1VhVOX2675n9SYhfIFzggsiU9lbngMTnqmmcwdlz8YCNiTgHiEt2xao7Jg3717n5IkSUQuLsmNif4kXFv+YCGHAISzA14ryWSdMXU2B2wZmuSsBCRpREAzdjsrC/QLBByVgKyZrK2b7KhtRLsCR0ASek0dPTJwJ+MsRUASLuXiDN4wEHA0AilSuJD8wUI+AcxxDvnXED0AARAAARAAARAAARAAARAAARCwIQEIZxvCRdEgAAIgAAIgAAIgAAIgAAIgAAIhnwCEc8i/hugBCIAACIAACIAACIAACIAACICADQlAONsQLooGARAAARAAARAAARAAARAAARAI+QQgnEP+NUQPQAAEQAAEQAAEQAAEQAAEQAAEbEgAwtmGcFE0CIAACIAACICAbQi8/vezbQpGqSDgZASih/dZmsvJuobugIBdCdhcOD/6cs+uHUJloYPAyfcH7drRgkkLGut7/emVXetGZSBgjcChe57WdttkX/7E+X2+DxAvNmGMQn9O4MzHF8aDMsXN9PMTdDxi7z0vHUtDUSCgP4Fbb+4G2/dDKj777Lz+nUKJTkHgzpuQqw1tJpy10a0HX+7Q22+vneJCoxOOQUDuKc0yxslo90ade+Jt9zpRIQj4ReDum9vGXfYWD1Kx9ycf8eJXG7EdBGxB4MCHR8ZiY0SIYYsqzMoskKSA8fMZiAKb80YFQSNw643Pu1LQSvL/2abfw7NPL/j/RBwZqgice+Zzb9jjt1tPuDYTzqYPmBPvMTKr50UL7WVd+XjOiMBeQsH0fj501/4evtB+zdF/vwmce+wzkJM5Xma/D9Rxj2kExv73PuJFxypQFAj8lMDZz/b3OCeNllS169Wn12Tq0ftpY3EACNiZwLrrm401VkhdwS61m9bj/dTnXc0ulaOSEEHg9ac3xmgEcbLa6z1eLzg2E86mX57pT4fr1V6UE8oJSPTC6Ed9jBTs9TAQ4axFURy670lbr3uE8iuB7jsCgfNPz9Ks01ONTSmfqrxdmmVaz5TXF+jO13d2qReVgIBGYMjz06TNcS6XshzZy2theu933u/zLMKVAQFHIiCDOvMvLjc2yV7PBlMnw7QzsxGu7Ug3hYO0xf3IaLvfl3p23WbCuW76uqSNzIqHcPoTiGc9L1xoLUsGYbRQbbm/7PUwEN5tsrUxYu+0rTW9YY8DDASCk0Cnba2M1ddJV8du4kFGiLV5ziJeWj5GFEZw3gehrW6ZHuD+8rSx26a/zbZmIXVpg6jrrm+hcaem27pKlA8CASbQZEd7FRUhJgNLyaInC3AZgTlB6pFnkWZtdnQJTDE4x0kJbLqxjWRARbNeeXuFuJ7aTDgLiWFFhhmBzHg2gpa+wAMmxN0hDtRg3/fQ1NI+njZ7NLP1H62Ng0Eiml1XlqO7wTCHyB59RR2OTUDuv6Yb6pJ4nMXkRd7099YerTetT+aatnriafQA2qN+1BE6CYhorvNot7HzIgpMvVy2piLCwFSoDzwykkRAw0DAEQiIWBbRrCWvC45ng4ghbXBJEoTV29SMJDwXFroJeN4/RG12djZCaJW1ld0GdPQkH8bNzW2AngWalpUmdhp69fEVHX90XG0++G4XyXzn7FHyU7Qwtk/kYat+oVz7EpCIhXZ3atD212uNFbvlcSOJarCnRQwbkWRu5+rLq+nTt0/09P0TWnFhMcWLEp8yxLXP3FJ79hd1OSYBmSbgurK8UTRLK1dXXU3ye2tPi8/3vYiITdc3qWpF0Kx+d5MKRkpA8cNGsmdTUFcoISBe5saP9hkHaCQ55JJKS0h+m+1pItS9OUnk1ZdX6SM/C5ZfWUtnnp2jMsmL2b0t9uw36nJsAiKWy66vxaLZZ9WRscXH2nVgSQjJtAl5Hq25skYBu/ryOq25uoHnsmbgZ4YhR4Bjk0Tr9CQggyYDD7lTlz291LuzmPbbrWc99irrf69evfrP1pW15rDWpReXmlWTJmJG+j1iJkoU3j7hI7buI8rXn8CDz3fo8sezZJoMTGqRUSp7e9dMe3eWvXzlWbi8+ewzghqdHxQZWTznM1m2Sn8iKDE0E5Bs7uefeptFOWjeBHsPIplehyUXllCb7T7TGGRf8nBRKVP42JQlYuzQfMnQdx0IvPr2WQ3KmGbQlmK1Fy97haD67spr9uzV5agPr/vmyU+LJMlPLiwOXOwUGuu7Xfgc+gic5neS05yIy3eyuimlptjdwWBK39KzQYRzpjjpKXNc+6+IEvrujODtsUQ/nH16nsTTbGry272pxia7TS3Tm4JdhLM0euqpqeTOIw6mYkPvzqA85ybgCCJBIyziWQaEzrGXAQYCwUFA5viLt80RMlKK11m+D/h9D447IfTVKeHZMlXHXgnBrBF22+tG005Ps3YI9oGAXQnIs0G+H/acwuBXB+VdSQaY7r71WVPar2Ox3fkJBLfjSw/CdhPO0lgZoZWHjOc9T3yJ9Lh6oaQMeQjUy1CPZI6xI7womWKXEdUpJ6dAQIeSe9ERuimjtTLHMji9zJY4yO+7DJAuPr8Yv++WAGFbkAmIYJZ73xEEgWln7nCuC3EMyAASBo+CfJlRQCAJyLNBVhpxxHcl7dkAZ0MgL24IPk2cXvKbLXPfHWGgP6go7SqcTRsro1DyoqX9G9SO4HznIiDhd/InQjkkfNFM72W5p2EgoCcB+Q7Id0H7XuhZti3KEiFh+meLOlBm6CCgiWRHE8t+0RfHgBjebfwihO16EtCeCSHt2aC9M+nJAmU5FoGQ9tvtX3rBJpz920AcBwIgAAIgAAIgAAIgAAIgAAIgAALBScCmy1EFZ8dQNwiAAAiAAAiAAAiAAAiAAAiAAAjoQQDCWQ+KKAMEQAAEQAAEQAAEQAAEQAAEQMBpCUA4O+2lRcdAAARAAARAAARAAARAAARAAAT0IADhrAdFlAECIAACIAACIAACIAACIAACIOC0BCCcnfbSomMgAAIgAAIgAAIgAAIgAAIgAAJ6EIBw1oMiygABEAABEAABEAABEAABEAABEHBaAhDOTntp0TEQAAEQAAEQAAEQAAEQAAEQAAE9CEA460ERZYAACIAACIAACIAACIAACIAACDgtAQhnp7206BgIgAAIgAAIgAAIgAAIgAAIgIAeBCCc9aCIMkAABEAABEAABEAABEAABEAABJyWAISz015adAwEQAAEQAAEQAAEQAAEQAAEQEAPAhDOelBEGSAAAiAAAiAAAiAAAiAAAiAAAk5LAMLZaS8tOgYCIAACIAACIAACIAACIAACIKAHAQhnPSiiDBAAARAAARAAARAAARAAARAAAaclAOHstJcWHQMBEAABEAABEAABEAABEAABENCDAISzHhRRBgiAAAiAAAiAAAiAAAiAAAiAgNMSgHB22kuLjoEACIAACIAACIAACIAACIAACOhBAMJZD4ooAwRAAARAAARAAARAAARAAARAwGkJQDg77aVFx0AABEAABEAABEAABEAABEAABPQgAOGsB0WUAQIgAAIgAAIgAAIgAAIgAAIg4LQEIJyd9tKiYyAAAiAAAiAAAiAAAiAAAiAAAnoQgHDWgyLKAAEQAAEQAAEQAAEQAAEQAAEQcFoCEM5Oe2nRMRAAARAAARAAARAAARAAARAAAT0IQDjrQRFlgAAIgAAIgAAIgAAIgAAIgAAIOC0BCGenvbToGAiAAAiAAAiAAAiAAAiAAAiAgB4EIJz1oIgyQAAEQAAEQAAEQAAEQAAEQAAEnJYAhLPTXlp0DARAAARAAARAAARAAARAAARAQA8CEM56UEQZIAACIAACIAACIAACIAACIAACTksAwtlpLy06BgIgAAIgAAIgAAIgAAIgAAIgoAcBCGc9KKIMEAABEAABEAABEAABEAABEAABpyUA4ey0lxYdAwEQAAEQAAEQAAEQAAEQAAEQ0IMAhLMeFFEGCIAACIAACIAACIAACIAACICA0xKAcHbaS4uOgQAIgAAIgAAIgAAIgAAIgAAI6EEAwlkPiigDBEAABEAABEAABEAABEAABEDAaQlAODvtpUXHQAAEQAAEQAAEQAAEQAAEQAAE9CAA4awHRZQBAiAAAiAAAiAAAiAAAiAAAiDgtAQgnJ320qJjIAACIAACIAACIAACIAACIAACehCAcNaDIsoAARAAARAAARAAARAAARAAARBwWgIQzk57adExEAABEAABEAABEAABEAABEAABPQhAOOtBEWWAAAiAAAiAAAiAAAiAAAiAAAg4LQEIZ6e9tOgYCIAACIAACIAACIAACIAACICAHgQgnPWgiDJAAARAAARAAARAAARAAARAAASclgCEs9NeWnQMBEAABEAABEAABEAABEAABEBADwIQznpQRBkgAAIgAAIgAAIgAAIgAAIgAAJOSwDC2WkvLToGAiAAAiAAAiAAAiAAAiAAAiCgBwEIZz0oogwQAAEQAAEQAAEQAAEQAAEQAAGnJQDh7LSXFh0DARAAARAAARAAARAAARAAARDQgwCEsx4UUQYIgAAIgAAIgAAIgAAIgAAIgIDTEoBwdtpLi46BAAiAAAiAAAiAAAiAAAiAAAjoQQDCWQ+KKAMEQAAEQAAEQAAEQAAEQAAEQMBpCUA4O+2lRcdAAARAAARAAARAAARAAARAAAT0IADhrAdFlAECIAACIAACIAACIAACIAACIOC0BCCcnfbSomMgAAIgAAIgAAIgAAIgAAIgAAJ6EIBw1oMiygABEAABEAABEAABEAABEAABEHBaAhDOTntp0TEQAAEQAAEQAAEQAAEQAAEQAAE9CEA460ERZYAACIAACIAACIAACIAACIAACDgtAQhnp7206BgIgAAIgAAIgAAIgAAIgAAIgIAeBCCc9aCIMkAABEAABEAABEAABEAABEAABJyWAISz015adAwEQAAEQAAEQAAEQAAEQAAEQEAPAhDOelBEGSAAAiAAAiAAAiAAAiAAAiAAAk5LAMLZaS8tOgYCIAACIAACIAACIAACIAACIKAHgf8DjIYvaIP8dv0AAAAASUVORK5CYII=)"
      ]
    },
    {
      "cell_type": "code",
      "metadata": {
        "id": "Qm01DtHswLSw"
      },
      "source": [
        "from airflow.models import DAG\n",
        "# importing different operators for tasks\n",
        "from airflow.providers.sqlite.operators.sqlite import SqliteOperator\n",
        "from airflow.providers.http.sensors.http import HttpSensor\n",
        "from airflow.providers.http.operators.http import SimpleHttpOperator\n",
        "from airflow.operators.python import PythonOperator\n",
        "from airflow.operators.bash import BashOperator\n",
        "\n",
        "from datetime import datetime\n",
        "from pandas import json_normalize\n",
        "import json\n",
        "\n",
        "default_args = {\n",
        "    'start_date': datetime(2021, 1, 1)\n",
        "}\n",
        "\n",
        "# method called during processing_user task\n",
        "def _processing_user(ti):\n",
        "    users = ti.xcom_pull(task_ids=['extracting_user'])\n",
        "    if not len(users) or 'results' not in users[0]:\n",
        "        raise ValueError(\"Data error\")\n",
        "    user = users[0]['results'][0]\n",
        "    processed_user = json_normalize({\n",
        "        'first_name': user['name']['first'],\n",
        "        'lastname': user['name']['last'], \n",
        "        'country': user['location']['country'],\n",
        "        'username': user['login']['username'], \n",
        "        'password': user['login']['password'],\n",
        "        'email': user['email']  \n",
        "    })\n",
        "    processed_user.to_csv('/tmp/processed_user.csv', index=None, header=False)\n",
        "\n",
        "# creating dag\n",
        "with DAG('user_processing', schedule_interval='@daily', \n",
        "        default_args=default_args,\n",
        "        catchup=False) as dag:\n",
        "\n",
        "        # defining different tasks\n",
        "        creating_table = SqliteOperator(\n",
        "            task_id='creating_table',\n",
        "            sqlite_conn_id='sqlite_default',\n",
        "            sql='''\n",
        "                CREATE TABLE IF NOT EXISTS users (\n",
        "                    firstname TEXT NOT NULL,\n",
        "                    lastname TEXT NOT NULL,\n",
        "                    country TEXT NOT NULL,\n",
        "                    username TEXT NOT NULL,\n",
        "                    password TEXT NOT NULL,\n",
        "                    email TEXT NOT NULL PRIMARY KEY\n",
        "                );\n",
        "            '''\n",
        "        )\n",
        "\n",
        "        is_api_available = HttpSensor(\n",
        "                task_id=\"is_api_available\",\n",
        "                http_conn_id='user_api',\n",
        "                endpoint='api/'\n",
        "            )\n",
        "        \n",
        "        extracting_user = SimpleHttpOperator(\n",
        "            task_id=\"extracting_user\",\n",
        "            http_conn_id='user_api',\n",
        "            endpoint='api/',\n",
        "            method='GET',\n",
        "            response_filter=lambda respose: json.loads(respose.text),\n",
        "            log_response=True\n",
        "        )\n",
        "        \n",
        "        processing_user = PythonOperator(\n",
        "            task_id='processing_user',\n",
        "            python_callable=_processing_user\n",
        "        )\n",
        "\n",
        "        storing_user = BashOperator(\n",
        "            task_id='storing_user',\n",
        "            bash_command='echo -e \".separator \",\"\\n.import /tmp/processed_user.csv users\" | sqlite3 /tmp/sqlite_default.db'\n",
        "        )\n",
        "\n",
        "        # order which task is called\n",
        "        creating_table >> is_api_available >> extracting_user >> processing_user >> storing_user\n"
      ],
      "execution_count": null,
      "outputs": []
    }
  ]
}