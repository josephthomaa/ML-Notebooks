{
  "nbformat": 4,
  "nbformat_minor": 0,
  "metadata": {
    "colab": {
      "name": "Distance Measures in Data Science.ipynb",
      "provenance": []
    },
    "kernelspec": {
      "name": "python3",
      "display_name": "Python 3"
    },
    "language_info": {
      "name": "python"
    }
  },
  "cells": [
    {
      "cell_type": "markdown",
      "metadata": {
        "id": "HsQQWeGTyZWT"
      },
      "source": [
        "# Data Types\n",
        "\n",
        "\n",
        "1.   Structured data sources\n",
        "      Eg :  Sensor data, Financial data, Weather data etc ..\n",
        "2.   Unstructured data sources\n",
        "      Eg:   Photographs and video, Mobile data\n",
        "\n",
        "\n",
        "\n",
        "> The structured data is again classified into Numeric and Categorical data.Some of the common structured data types  are :    \n",
        "\n",
        "\n",
        "*   Continuous (Examples: Height or Weight of an individual, Rate of Interest on loans, etc.)\n",
        "*   Discrete (Examples: Student count in a class, Colour count in a Rainbow.)\n",
        "*   Nominal (Examples: States in a country, zip codes of areas. )\n",
        "*   Ordinal (Examples: Ratings for a restaurant (e.g. very good, good, bad, very bad), Level of Education of an individual (e.g. Doctorate, Post Graduate, UnderGraduate), etc.)\n",
        "*   Binary (Examples: Fraudulent transaction (Yes or No), Cancerous Cell (True or False).)\n",
        "\n",
        "\n",
        "\n",
        "\n",
        "\n"
      ]
    },
    {
      "cell_type": "markdown",
      "metadata": {
        "id": "VzIMiWpZ0gl4"
      },
      "source": [
        "# Encoding Categorical Data\n",
        "\n",
        "  Encoding is a technique of converting categorical variables into numerical values so that it could be easily fitted to a machine learning model.\n",
        "\n",
        "\n",
        "> Common Types of Encoding\n",
        "\n",
        "\n",
        "*   Label Encoding\n",
        "*   One hot Encoding\n",
        "      > Example, suppose we have a column containing 3 categorical variables, then in one hot encoding 3 columns will be created each for a categorical variable.\n",
        "\n",
        "\n",
        "*   Mean Encoding\n",
        "    >In this method, we will convert the categories into their mean values based on the output.\n",
        "\n",
        "\n"
      ]
    },
    {
      "cell_type": "markdown",
      "metadata": {
        "id": "BgS07wikMoTC"
      },
      "source": [
        "# Role of Distance Measures\n",
        "\n",
        "\n",
        "1.   A distance measure is an objective score that summarizes the relative difference between two objects in a problem domain.\n",
        "\n",
        "2. Most commonly, the two objects are rows of data that describe a subject (such as a person, car, or house), or an event (such as a purchase, a claim, or a diagnosis).\n",
        "\n",
        "3. Popular machine learning algorithms that use distance measures at their core is as follows:\n",
        "\n",
        "      * K-Nearest Neighbors\n",
        "      * Learning Vector Quantization (LVQ)\n",
        "      * Self-Organizing Map (SOM)\n",
        "      * K-Means Clustering\n",
        "\n"
      ]
    },
    {
      "cell_type": "markdown",
      "metadata": {
        "id": "7EvoUXjV-WcF"
      },
      "source": [
        "# 4 Common Types of Distance Metrics in Machine Learning\n",
        "\n",
        " 1. Euclidean Distance\n",
        " 2. Manhattan Distance\n",
        " 3. Minkowski Distance\n",
        " 4. Hamming Distance"
      ]
    },
    {
      "cell_type": "code",
      "metadata": {
        "colab": {
          "base_uri": "https://localhost:8080/",
          "height": 175
        },
        "id": "OCQz2amGgKV6",
        "outputId": "2eee6f8e-cb7f-44ad-a66f-9a0d9b26ab52"
      },
      "source": [
        "import pandas as pd\n",
        "\n",
        "data = {'HP1':[5, 4, 0, 0],\n",
        "        'HP2':[4, 0, 0, 0],\n",
        "        'HP3':[4, 0, 0, 3],\n",
        "        'IS':[4, 5, 2, 0],\n",
        "        'IM1':[0, 1, 4, 0],\n",
        "        'IM2':[0, 0, 5, 0],\n",
        "        'IM3':[0, 0, 0, 3]}\n",
        "\n",
        "df = pd.DataFrame(data, index =['user1',\n",
        "                                'user2',\n",
        "                                'user3',\n",
        "                                'user4'])\n",
        "user_1 = df.iloc[0].tolist()\n",
        "user_2 = df.iloc[1].tolist()\n",
        "user_3 = df.iloc[2].tolist()\n",
        "user_4 = df.iloc[3].tolist()\n",
        "df"
      ],
      "execution_count": 1,
      "outputs": [
        {
          "output_type": "execute_result",
          "data": {
            "text/html": [
              "<div>\n",
              "<style scoped>\n",
              "    .dataframe tbody tr th:only-of-type {\n",
              "        vertical-align: middle;\n",
              "    }\n",
              "\n",
              "    .dataframe tbody tr th {\n",
              "        vertical-align: top;\n",
              "    }\n",
              "\n",
              "    .dataframe thead th {\n",
              "        text-align: right;\n",
              "    }\n",
              "</style>\n",
              "<table border=\"1\" class=\"dataframe\">\n",
              "  <thead>\n",
              "    <tr style=\"text-align: right;\">\n",
              "      <th></th>\n",
              "      <th>HP1</th>\n",
              "      <th>HP2</th>\n",
              "      <th>HP3</th>\n",
              "      <th>IS</th>\n",
              "      <th>IM1</th>\n",
              "      <th>IM2</th>\n",
              "      <th>IM3</th>\n",
              "    </tr>\n",
              "  </thead>\n",
              "  <tbody>\n",
              "    <tr>\n",
              "      <th>user1</th>\n",
              "      <td>5</td>\n",
              "      <td>4</td>\n",
              "      <td>4</td>\n",
              "      <td>4</td>\n",
              "      <td>0</td>\n",
              "      <td>0</td>\n",
              "      <td>0</td>\n",
              "    </tr>\n",
              "    <tr>\n",
              "      <th>user2</th>\n",
              "      <td>4</td>\n",
              "      <td>0</td>\n",
              "      <td>0</td>\n",
              "      <td>5</td>\n",
              "      <td>1</td>\n",
              "      <td>0</td>\n",
              "      <td>0</td>\n",
              "    </tr>\n",
              "    <tr>\n",
              "      <th>user3</th>\n",
              "      <td>0</td>\n",
              "      <td>0</td>\n",
              "      <td>0</td>\n",
              "      <td>2</td>\n",
              "      <td>4</td>\n",
              "      <td>5</td>\n",
              "      <td>0</td>\n",
              "    </tr>\n",
              "    <tr>\n",
              "      <th>user4</th>\n",
              "      <td>0</td>\n",
              "      <td>0</td>\n",
              "      <td>3</td>\n",
              "      <td>0</td>\n",
              "      <td>0</td>\n",
              "      <td>0</td>\n",
              "      <td>3</td>\n",
              "    </tr>\n",
              "  </tbody>\n",
              "</table>\n",
              "</div>"
            ],
            "text/plain": [
              "       HP1  HP2  HP3  IS  IM1  IM2  IM3\n",
              "user1    5    4    4   4    0    0    0\n",
              "user2    4    0    0   5    1    0    0\n",
              "user3    0    0    0   2    4    5    0\n",
              "user4    0    0    3   0    0    0    3"
            ]
          },
          "metadata": {},
          "execution_count": 1
        }
      ]
    },
    {
      "cell_type": "code",
      "metadata": {
        "colab": {
          "base_uri": "https://localhost:8080/"
        },
        "id": "HtcK_5kDhIwZ",
        "outputId": "2c30984a-a5e8-46c4-b392-d0957a3b7717"
      },
      "source": [
        "from scipy.spatial import distance\n",
        "#import necessary libraries\n",
        "from sklearn.metrics import mean_squared_error\n",
        "from math import sqrt\n",
        "\n",
        "\n",
        "# computing the euclidean distance\n",
        "# Most machine learning algorithms including K-Means use this distance metric to measure the similarity between observations.\n",
        "\n",
        "euclidean_distance = distance.euclidean(user_1,user_2)\n",
        "print('Euclidean Distance b/w', user_1, 'and', user_2, 'is: ', euclidean_distance)\n",
        "\n",
        "\n",
        "# computing the manhattan distance\n",
        "manhattan_distance = distance.cityblock(user_1,user_2)\n",
        "print('Manhattan Distance b/w', user_1, 'and', user_2, 'is: ', manhattan_distance)\n",
        "\n",
        "# computing the minkowski distance with p=1\n",
        "minkowski_distance = distance.minkowski(user_1,user_2, p=1)\n",
        "print('minkowski Distance b/w', user_1, 'and', user_2, 'is: ', minkowski_distance)\n",
        "\n",
        "minkowski_distance = distance.minkowski(user_1,user_2, p=2)\n",
        "print('minkowski Distance b/w', user_1, 'and', user_2, 'is: ', minkowski_distance)\n",
        "\n",
        "minkowski_distance = distance.minkowski(user_1,user_2, p=3)\n",
        "print('minkowski Distance b/w', user_1, 'and', user_2, 'is: ', minkowski_distance)\n",
        "\n",
        "# computing the cosine distance with p=1\n",
        "cosine_distance = distance.cosine(user_1,user_2)\n",
        "print('cosine Distance b/w', user_1, 'and', user_2, 'is: ', minkowski_distance)\n",
        "\n",
        "# computing the jaccard distance with p=1\n",
        "jaccard_distance = distance.jaccard(user_1,user_2)\n",
        "print('jaccard Distance b/w', user_1, 'and', user_2, 'is: ', minkowski_distance)\n"
      ],
      "execution_count": 15,
      "outputs": [
        {
          "output_type": "stream",
          "name": "stdout",
          "text": [
            "Euclidean Distance b/w [5, 4, 4, 4, 0, 0, 0] and [4, 0, 0, 5, 1, 0, 0] is:  5.916079783099616\n",
            "Manhattan Distance b/w [5, 4, 4, 4, 0, 0, 0] and [4, 0, 0, 5, 1, 0, 0] is:  11\n",
            "minkowski Distance b/w [5, 4, 4, 4, 0, 0, 0] and [4, 0, 0, 5, 1, 0, 0] is:  11.0\n",
            "minkowski Distance b/w [5, 4, 4, 4, 0, 0, 0] and [4, 0, 0, 5, 1, 0, 0] is:  5.916079783099616\n",
            "minkowski Distance b/w [5, 4, 4, 4, 0, 0, 0] and [4, 0, 0, 5, 1, 0, 0] is:  5.0787530781327\n",
            "cosine Distance b/w [5, 4, 4, 4, 0, 0, 0] and [4, 0, 0, 5, 1, 0, 0] is:  5.0787530781327\n",
            "jaccard Distance b/w [5, 4, 4, 4, 0, 0, 0] and [4, 0, 0, 5, 1, 0, 0] is:  5.0787530781327\n"
          ]
        }
      ]
    },
    {
      "cell_type": "code",
      "metadata": {
        "colab": {
          "base_uri": "https://localhost:8080/"
        },
        "id": "jT0cv33Klukv",
        "outputId": "6c8edc03-4019-400e-d4e1-5408c4d7f78f"
      },
      "source": [
        "euclidean_distance = distance.euclidean(user_3,user_2)\n",
        "print('Euclidean Distance b/w', user_3, 'and', user_2, 'is: ', euclidean_distance)\n",
        "\n",
        "# computing the manhattan distance\n",
        "manhattan_distance = distance.cityblock(user_3,user_2)\n",
        "print('Manhattan Distance b/w', user_3, 'and', user_2, 'is: ', manhattan_distance)\n",
        "\n",
        "# computing the minkowski distance with p=3\n",
        "\n",
        "minkowski_distance = distance.minkowski(user_3,user_2, p=3)\n",
        "print('minkowski Distance b/w', user_3, 'and', user_2, 'is: ', minkowski_distance)\n",
        "\n",
        "# computing the cosine distance with p=1\n",
        "cosine_distance = distance.cosine(user_3,user_2)\n",
        "print('cosine Distance b/w', user_3, 'and', user_2, 'is: ', minkowski_distance)\n",
        "\n",
        "# computing the jaccard distance with p=1\n",
        "jaccard_distance = distance.jaccard(user_3,user_2)\n",
        "print('jaccard Distance b/w', user_3, 'and', user_2, 'is: ', minkowski_distance)"
      ],
      "execution_count": 11,
      "outputs": [
        {
          "output_type": "stream",
          "name": "stdout",
          "text": [
            "Euclidean Distance b/w [0, 0, 0, 2, 4, 5, 0] and [4, 0, 0, 5, 1, 0, 0] is:  7.681145747868608\n",
            "Manhattan Distance b/w [0, 0, 0, 2, 4, 5, 0] and [4, 0, 0, 5, 1, 0, 0] is:  15\n",
            "minkowski Distance b/w [0, 0, 0, 2, 4, 5, 0] and [4, 0, 0, 5, 1, 0, 0] is:  6.240251469155711\n",
            "cosine Distance b/w [0, 0, 0, 2, 4, 5, 0] and [4, 0, 0, 5, 1, 0, 0] is:  6.240251469155711\n",
            "jaccard Distance b/w [0, 0, 0, 2, 4, 5, 0] and [4, 0, 0, 5, 1, 0, 0] is:  6.240251469155711\n"
          ]
        }
      ]
    }
  ]
}