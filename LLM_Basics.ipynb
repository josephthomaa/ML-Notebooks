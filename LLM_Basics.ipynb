{
  "nbformat": 4,
  "nbformat_minor": 0,
  "metadata": {
    "colab": {
      "provenance": [],
      "authorship_tag": "ABX9TyPX5CKCCzqo9wHut79y22vo",
      "include_colab_link": true
    },
    "kernelspec": {
      "name": "python3",
      "display_name": "Python 3"
    },
    "language_info": {
      "name": "python"
    }
  },
  "cells": [
    {
      "cell_type": "markdown",
      "metadata": {
        "id": "view-in-github",
        "colab_type": "text"
      },
      "source": [
        "<a href=\"https://colab.research.google.com/github/josephthomaa/ML-Notebooks/blob/main/LLM_Basics.ipynb\" target=\"_parent\"><img src=\"https://colab.research.google.com/assets/colab-badge.svg\" alt=\"Open In Colab\"/></a>"
      ]
    },
    {
      "cell_type": "markdown",
      "source": [
        "\n",
        "###  What is NLP?\n",
        "NLP is a field of linguistics and machine learning focused on understanding everything related to human language. The aim of NLP tasks is not only to understand single words individually, but to be able to understand the context of those words."
      ],
      "metadata": {
        "id": "qXCUie1qDVfx"
      }
    },
    {
      "cell_type": "code",
      "execution_count": 5,
      "metadata": {
        "id": "RalMWlaaCcTH"
      },
      "outputs": [],
      "source": [
        "# Transformers provides thousands of pretrained models to perform tasks on different modalities such as text, vision, and audio by hugging face.\n",
        "\n",
        "# !pip install transformers"
      ]
    },
    {
      "cell_type": "code",
      "source": [
        "# @misc{huggingfacecourse,\n",
        "#   author = {Hugging Face},\n",
        "#   title = {The Hugging Face Course, 2022},\n",
        "#   howpublished = \"\\url{https://huggingface.co/course}\",\n",
        "#   year = {2022},\n",
        "#   note = \"[Online; accessed <today>]\"\n",
        "# }"
      ],
      "metadata": {
        "id": "W-_S6y6xC_G3"
      },
      "execution_count": 4,
      "outputs": []
    },
    {
      "cell_type": "markdown",
      "source": [],
      "metadata": {
        "id": "K2p6FTkTFctQ"
      }
    }
  ]
}